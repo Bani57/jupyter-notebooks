{
 "cells": [
  {
   "cell_type": "markdown",
   "metadata": {},
   "source": [
    "# Лабораториска вежба 1\n",
    "## Машинска визија 2018/2019\n",
    "### Андреј Јанчевски - 151003"
   ]
  },
  {
   "cell_type": "code",
   "execution_count": null,
   "metadata": {},
   "outputs": [],
   "source": [
    "import cv2\n",
    "import numpy as np\n",
    "from matplotlib import pyplot as plt\n",
    "from IPython.display import clear_output, display"
   ]
  },
  {
   "cell_type": "markdown",
   "metadata": {},
   "source": [
    "### Почетна слика од камера"
   ]
  },
  {
   "cell_type": "code",
   "execution_count": null,
   "metadata": {},
   "outputs": [],
   "source": [
    "cap = cv2.VideoCapture(0)\n",
    "cap.set(cv2.CAP_PROP_FRAME_WIDTH, 480)\n",
    "cap.set(cv2.CAP_PROP_FRAME_HEIGHT, 360)\n",
    "try:\n",
    "    while True:\n",
    "        captured, img = cap.read()\n",
    "        if captured:\n",
    "            img = cv2.cvtColor(np.uint8(img), cv2.COLOR_BGR2RGB)\n",
    "            plt.figure(1,(16,9),dpi=int(480/16))\n",
    "            plt.axis(\"off\")\n",
    "            plt.title(\"Camera Image\", fontsize=32)\n",
    "            plt.imshow(img)\n",
    "            plt.show()\n",
    "            clear_output(wait=True)\n",
    "        else:\n",
    "            cap.release()\n",
    "            break\n",
    "except KeyboardInterrupt:\n",
    "    cap.release()"
   ]
  },
  {
   "cell_type": "markdown",
   "metadata": {},
   "source": [
    "### Претворање на сликата во HSV формат и дефинирање на посебна маска за секој канал"
   ]
  },
  {
   "cell_type": "code",
   "execution_count": null,
   "metadata": {},
   "outputs": [],
   "source": [
    "cap = cv2.VideoCapture(0)\n",
    "cap.set(cv2.CAP_PROP_FRAME_WIDTH, 480)\n",
    "cap.set(cv2.CAP_PROP_FRAME_HEIGHT, 360)\n",
    "try:\n",
    "    while True:\n",
    "        captured, img = cap.read()\n",
    "        if captured:\n",
    "            img = cv2.cvtColor(img, cv2.COLOR_BGR2HSV)\n",
    "            h, s, v = cv2.split(img)\n",
    "            face_mask_hue = cv2.inRange(h, 0, 20) / 255 + cv2.inRange(\n",
    "                h, 160, 180) / 255\n",
    "            face_mask_saturation = cv2.inRange(s, 90, 150) / 255\n",
    "            face_mask_value = cv2.inRange(v, 0, 50) / 255\n",
    "\n",
    "            plt.figure(1, (16, 27), dpi=int(480 / 16))\n",
    "            plt.subplot(3, 1, 1)\n",
    "            plt.axis(\"off\")\n",
    "            plt.title(\"Hue Mask\", fontsize=32)\n",
    "            plt.imshow(face_mask_hue, cmap=\"gray\")\n",
    "            #plt.show()\n",
    "            plt.subplot(3, 1, 2)\n",
    "            plt.axis(\"off\")\n",
    "            plt.title(\"Saturation Mask\", fontsize=32)\n",
    "            plt.imshow(face_mask_saturation,cmap=\"gray\")\n",
    "            #plt.show()\n",
    "            plt.subplot(3, 1, 3)\n",
    "            plt.axis(\"off\")\n",
    "            plt.title(\"Value Mask\", fontsize=32)\n",
    "            plt.imshow(face_mask_value,cmap=\"gray\")\n",
    "            plt.show()\n",
    "            clear_output(wait=True)\n",
    "        else:\n",
    "            cap.release()\n",
    "            break\n",
    "except KeyboardInterrupt:\n",
    "    cap.release()"
   ]
  },
  {
   "cell_type": "markdown",
   "metadata": {},
   "source": [
    "### Множење на сликата со маската и добивање на конечната слика само со пиксели со боја на кожа"
   ]
  },
  {
   "cell_type": "code",
   "execution_count": null,
   "metadata": {},
   "outputs": [],
   "source": [
    "cap = cv2.VideoCapture(0)\n",
    "cap.set(cv2.CAP_PROP_FRAME_WIDTH, 480)\n",
    "cap.set(cv2.CAP_PROP_FRAME_HEIGHT, 360)\n",
    "try:\n",
    "    while True:\n",
    "        captured, img = cap.read()\n",
    "        if captured:\n",
    "            img = cv2.cvtColor(img, cv2.COLOR_BGR2HSV)\n",
    "            h, s, v = cv2.split(img)\n",
    "            face_mask_hue = cv2.inRange(h, 0, 20) / 255 + cv2.inRange(\n",
    "                h, 160, 180) / 255\n",
    "            face_mask_saturation = cv2.inRange(s, 90, 150) / 255\n",
    "            # face_mask_value = cv2.inRange(v, 0, 50) / 255\n",
    "            face_mask = face_mask_hue * face_mask_saturation\n",
    "            h = h * face_mask\n",
    "            s = s * face_mask\n",
    "            v = v * face_mask\n",
    "            img = cv2.merge((h, s, v))\n",
    "            img = cv2.cvtColor(np.uint8(img), cv2.COLOR_HSV2RGB)\n",
    "            plt.figure(1,(16,9),dpi=int(480/16))\n",
    "            plt.axis(\"off\")\n",
    "            plt.title(\"Skin Color Image\", fontsize=32)\n",
    "            plt.imshow(img)\n",
    "            plt.show()\n",
    "            clear_output(wait=True)\n",
    "        else:\n",
    "            cap.release()\n",
    "            break\n",
    "except KeyboardInterrupt:\n",
    "    cap.release()"
   ]
  }
 ],
 "metadata": {
  "kernelspec": {
   "display_name": "Python 3",
   "language": "python",
   "name": "python3"
  },
  "language_info": {
   "codemirror_mode": {
    "name": "ipython",
    "version": 3
   },
   "file_extension": ".py",
   "mimetype": "text/x-python",
   "name": "python",
   "nbconvert_exporter": "python",
   "pygments_lexer": "ipython3",
   "version": "3.7.1"
  },
  "toc": {
   "base_numbering": 1,
   "nav_menu": {},
   "number_sections": false,
   "sideBar": true,
   "skip_h1_title": false,
   "title_cell": "Table of Contents",
   "title_sidebar": "Contents",
   "toc_cell": false,
   "toc_position": {},
   "toc_section_display": true,
   "toc_window_display": false
  },
  "varInspector": {
   "cols": {
    "lenName": 16,
    "lenType": 16,
    "lenVar": 40
   },
   "kernels_config": {
    "python": {
     "delete_cmd_postfix": "",
     "delete_cmd_prefix": "del ",
     "library": "var_list.py",
     "varRefreshCmd": "print(var_dic_list())"
    },
    "r": {
     "delete_cmd_postfix": ") ",
     "delete_cmd_prefix": "rm(",
     "library": "var_list.r",
     "varRefreshCmd": "cat(var_dic_list()) "
    }
   },
   "types_to_exclude": [
    "module",
    "function",
    "builtin_function_or_method",
    "instance",
    "_Feature"
   ],
   "window_display": false
  }
 },
 "nbformat": 4,
 "nbformat_minor": 2
}
