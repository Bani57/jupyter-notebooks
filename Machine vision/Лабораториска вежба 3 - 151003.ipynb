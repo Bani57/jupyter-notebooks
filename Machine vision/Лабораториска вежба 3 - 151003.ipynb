{
 "cells": [
  {
   "cell_type": "markdown",
   "metadata": {},
   "source": [
    "# Лабораториска вежба 3\n",
    "## Машинска визија 2018/2019\n",
    "### Андреј Јанчевски 151003"
   ]
  },
  {
   "cell_type": "code",
   "execution_count": 1,
   "metadata": {
    "ExecuteTime": {
     "end_time": "2018-12-24T10:59:38.942942Z",
     "start_time": "2018-12-24T10:59:37.663937Z"
    }
   },
   "outputs": [],
   "source": [
    "import cv2\n",
    "import numpy as np\n",
    "from matplotlib import pyplot as plt"
   ]
  },
  {
   "cell_type": "code",
   "execution_count": 2,
   "metadata": {
    "ExecuteTime": {
     "end_time": "2018-12-24T10:59:38.959939Z",
     "start_time": "2018-12-24T10:59:38.954940Z"
    }
   },
   "outputs": [],
   "source": [
    "def white_balance(img):\n",
    "    result = cv2.cvtColor(img, cv2.COLOR_BGR2LAB)\n",
    "    avg_a = np.average(result[:, :, 1])\n",
    "    avg_b = np.average(result[:, :, 2])\n",
    "    result[:, :, 1] = result[:, :, 1] - (\n",
    "        (avg_a - 128) * (result[:, :, 0] / 255.0) * 1.1)\n",
    "    result[:, :, 2] = result[:, :, 2] - (\n",
    "        (avg_b - 128) * (result[:, :, 0] / 255.0) * 1.1)\n",
    "    result = cv2.cvtColor(result, cv2.COLOR_LAB2BGR)\n",
    "    return result"
   ]
  },
  {
   "cell_type": "code",
   "execution_count": 3,
   "metadata": {
    "ExecuteTime": {
     "end_time": "2018-12-24T10:59:39.867432Z",
     "start_time": "2018-12-24T10:59:39.862397Z"
    }
   },
   "outputs": [],
   "source": [
    "def adaptive_histogram_equalization(img):\n",
    "    img[:, :, 0] = cv2.equalizeHist(img[:, :, 0])\n",
    "    img[:, :, 1] = cv2.equalizeHist(img[:, :, 1])\n",
    "    img[:, :, 2] = cv2.equalizeHist(img[:, :, 2])\n",
    "    clahe = cv2.createCLAHE(clipLimit=2.0, tileGridSize=(8, 8))\n",
    "    img[:, :, 0] = clahe.apply(img[:, :, 0])\n",
    "    img[:, :, 1] = clahe.apply(img[:, :, 1])\n",
    "    img[:, :, 2] = clahe.apply(img[:, :, 2])"
   ]
  },
  {
   "cell_type": "markdown",
   "metadata": {},
   "source": [
    "### Почетна слика од камера"
   ]
  },
  {
   "cell_type": "code",
   "execution_count": 4,
   "metadata": {
    "ExecuteTime": {
     "end_time": "2018-12-24T10:59:51.199418Z",
     "start_time": "2018-12-24T10:59:41.316596Z"
    }
   },
   "outputs": [],
   "source": [
    "cap = cv2.VideoCapture(0)\n",
    "cap.set(cv2.CAP_PROP_FRAME_WIDTH, 480)\n",
    "cap.set(cv2.CAP_PROP_FRAME_HEIGHT, 360)\n",
    "while True:\n",
    "    captured, img = cap.read()\n",
    "    adaptive_histogram_equalization(img)\n",
    "    if captured:\n",
    "        cv2.imshow(\"Camera Image\", img)\n",
    "        c = cv2.waitKey(1)\n",
    "        if c == ord('q'):\n",
    "            cap.release()\n",
    "            break\n",
    "    else:\n",
    "        cap.release()\n",
    "        break\n",
    "cv2.destroyAllWindows()"
   ]
  },
  {
   "cell_type": "code",
   "execution_count": 5,
   "metadata": {
    "ExecuteTime": {
     "end_time": "2018-12-24T10:59:53.093507Z",
     "start_time": "2018-12-24T10:59:53.078512Z"
    }
   },
   "outputs": [],
   "source": [
    "def getSkinPixels(img, draw_lines=False):\n",
    "    img_hsv = cv2.cvtColor(img, cv2.COLOR_BGR2HSV)\n",
    "    h, s, v = cv2.split(img_hsv)\n",
    "    face_mask_hue = cv2.inRange(h, 0, 20) + cv2.inRange(h, 160, 180)\n",
    "    face_mask_saturation = cv2.inRange(s, 48, 150)\n",
    "    face_mask_value = cv2.inRange(v, 80, 255)\n",
    "    face_mask = cv2.bitwise_and(face_mask_hue, face_mask_saturation)\n",
    "    # face_mask = cv2.bitwise_and(face_mask, face_mask_value)\n",
    "    face_mask = cv2.medianBlur(face_mask, 31)\n",
    "    face_mask = cv2.morphologyEx(\n",
    "        face_mask, op=cv2.MORPH_OPEN, kernel=(15, 15), iterations=2)\n",
    "    h = cv2.bitwise_and(h, face_mask)\n",
    "    s = cv2.bitwise_and(s, face_mask)\n",
    "    v = cv2.bitwise_and(v, face_mask)\n",
    "    img_hsv_masked = cv2.merge((h, s, v))\n",
    "    img_result = cv2.cvtColor(np.uint8(img_hsv_masked), cv2.COLOR_HSV2BGR)\n",
    "    if draw_lines:\n",
    "        img_result = np.copy(img)\n",
    "        face_mask, contours, _ = cv2.findContours(face_mask, cv2.RETR_LIST,\n",
    "                                                  cv2.CHAIN_APPROX_SIMPLE)\n",
    "        cnt = max(contours, key=lambda x: cv2.contourArea(x))\n",
    "        cv2.drawContours(img_result, [cnt], 0, (0, 0, 255), 3)\n",
    "        cv2.rectangle(img_result, (0, 0), (128, 24), (0, 0, 0), -1)\n",
    "        cv2.putText(\n",
    "            img_result,\n",
    "            str(cv2.contourArea(cnt)), (0, 16),\n",
    "            fontFace=cv2.FONT_HERSHEY_PLAIN,\n",
    "            fontScale=1,\n",
    "            color=(255, 255, 255))\n",
    "        cnt_x1 = min(cnt, key=lambda x: x[0][0])[0][0]\n",
    "        cnt_x2 = max(cnt, key=lambda x: x[0][0])[0][0]\n",
    "        cnt_y1 = min(cnt, key=lambda x: x[0][1])[0][1]\n",
    "        cnt_y2 = max(cnt, key=lambda x: x[0][1])[0][1]\n",
    "        cv2.rectangle(img_result, (cnt_x1, cnt_y1), (cnt_x2, cnt_y2),\n",
    "                      (255, 0, 0), 3)\n",
    "        convex_hull = cv2.convexHull(cnt)\n",
    "        cv2.drawContours(img_result, [convex_hull], 0, (0, 255, 0), 3)\n",
    "    return img_result"
   ]
  },
  {
   "cell_type": "markdown",
   "metadata": {},
   "source": [
    "### Пикселите со боја на кожа"
   ]
  },
  {
   "cell_type": "code",
   "execution_count": 6,
   "metadata": {
    "ExecuteTime": {
     "end_time": "2018-12-24T11:00:03.290347Z",
     "start_time": "2018-12-24T10:59:56.831017Z"
    }
   },
   "outputs": [],
   "source": [
    "cap = cv2.VideoCapture(0)\n",
    "cap.set(cv2.CAP_PROP_FRAME_WIDTH, 480)\n",
    "cap.set(cv2.CAP_PROP_FRAME_HEIGHT, 360)\n",
    "while True:\n",
    "    captured, img = cap.read()\n",
    "    if captured:\n",
    "        img = white_balance(img)\n",
    "        adaptive_histogram_equalization(img)\n",
    "        img_skin = getSkinPixels(img)\n",
    "        cv2.imshow(\"Skin Color Image\", img_skin)\n",
    "        c = cv2.waitKey(1)\n",
    "        if c == ord('q'):\n",
    "            cap.release()\n",
    "            break\n",
    "    else:\n",
    "        cap.release()\n",
    "        break\n",
    "cv2.destroyAllWindows()"
   ]
  },
  {
   "cell_type": "markdown",
   "metadata": {},
   "source": [
    "### Наоѓање на контури на лицето"
   ]
  },
  {
   "cell_type": "code",
   "execution_count": 7,
   "metadata": {
    "ExecuteTime": {
     "end_time": "2018-12-24T11:00:22.301689Z",
     "start_time": "2018-12-24T11:00:07.508189Z"
    }
   },
   "outputs": [],
   "source": [
    "cap = cv2.VideoCapture(0)\n",
    "cap.set(cv2.CAP_PROP_FRAME_WIDTH, 480)\n",
    "cap.set(cv2.CAP_PROP_FRAME_HEIGHT, 360)\n",
    "while True:\n",
    "    captured, img = cap.read()\n",
    "    if captured:\n",
    "        img = white_balance(img)\n",
    "        adaptive_histogram_equalization(img)\n",
    "        img_skin = getSkinPixels(img, draw_lines=True)\n",
    "        cv2.imshow(\"Skin Color Image With Contours\", img_skin)\n",
    "        c = cv2.waitKey(1)\n",
    "        if c == ord('q'):\n",
    "            cap.release()\n",
    "            break\n",
    "    else:\n",
    "        cap.release()\n",
    "        break\n",
    "cv2.destroyAllWindows()"
   ]
  },
  {
   "cell_type": "code",
   "execution_count": null,
   "metadata": {},
   "outputs": [],
   "source": []
  }
 ],
 "metadata": {
  "kernelspec": {
   "display_name": "Python 3",
   "language": "python",
   "name": "python3"
  },
  "language_info": {
   "codemirror_mode": {
    "name": "ipython",
    "version": 3
   },
   "file_extension": ".py",
   "mimetype": "text/x-python",
   "name": "python",
   "nbconvert_exporter": "python",
   "pygments_lexer": "ipython3",
   "version": "3.7.1"
  },
  "toc": {
   "base_numbering": 1,
   "nav_menu": {},
   "number_sections": false,
   "sideBar": true,
   "skip_h1_title": false,
   "title_cell": "Table of Contents",
   "title_sidebar": "Contents",
   "toc_cell": false,
   "toc_position": {},
   "toc_section_display": true,
   "toc_window_display": false
  },
  "varInspector": {
   "cols": {
    "lenName": 16,
    "lenType": 16,
    "lenVar": 40
   },
   "kernels_config": {
    "python": {
     "delete_cmd_postfix": "",
     "delete_cmd_prefix": "del ",
     "library": "var_list.py",
     "varRefreshCmd": "print(var_dic_list())"
    },
    "r": {
     "delete_cmd_postfix": ") ",
     "delete_cmd_prefix": "rm(",
     "library": "var_list.r",
     "varRefreshCmd": "cat(var_dic_list()) "
    }
   },
   "types_to_exclude": [
    "module",
    "function",
    "builtin_function_or_method",
    "instance",
    "_Feature"
   ],
   "window_display": false
  }
 },
 "nbformat": 4,
 "nbformat_minor": 2
}
