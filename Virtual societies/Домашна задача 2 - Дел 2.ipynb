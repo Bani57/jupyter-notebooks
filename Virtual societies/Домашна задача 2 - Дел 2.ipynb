{
 "cells": [
  {
   "cell_type": "markdown",
   "metadata": {},
   "source": [
    "# Домашна задача 2 - Дел 2\n",
    "## Виртуелни општества 2018/2019\n",
    "### Андреј Јанчевски - 151003"
   ]
  },
  {
   "cell_type": "code",
   "execution_count": 1,
   "metadata": {
    "ExecuteTime": {
     "end_time": "2018-12-04T00:57:21.448396Z",
     "start_time": "2018-12-04T00:57:20.601313Z"
    }
   },
   "outputs": [],
   "source": [
    "import numpy as np\n",
    "from matplotlib import pyplot as plt\n",
    "import networkx as nx\n",
    "from collections import OrderedDict\n",
    "import pandas"
   ]
  },
  {
   "cell_type": "markdown",
   "metadata": {},
   "source": [
    "### Читање на податоците"
   ]
  },
  {
   "cell_type": "code",
   "execution_count": 2,
   "metadata": {
    "ExecuteTime": {
     "end_time": "2018-12-04T00:57:44.577763Z",
     "start_time": "2018-12-04T00:57:21.638709Z"
    }
   },
   "outputs": [],
   "source": [
    "gnutella = pandas.read_csv(\"Problem.csv\", header=None, index_col=False)\n",
    "nrows, ncols = gnutella.shape"
   ]
  },
  {
   "cell_type": "markdown",
   "metadata": {
    "ExecuteTime": {
     "end_time": "2018-12-04T00:41:27.941118Z",
     "start_time": "2018-12-04T00:41:27.903088Z"
    }
   },
   "source": [
    "### Креирање на графот"
   ]
  },
  {
   "cell_type": "code",
   "execution_count": 29,
   "metadata": {
    "ExecuteTime": {
     "end_time": "2018-12-04T01:21:52.525750Z",
     "start_time": "2018-12-04T01:11:11.974198Z"
    }
   },
   "outputs": [],
   "source": [
    "gnutella_graph = nx.DiGraph()\n",
    "for i in range(0, nrows):\n",
    "    for j in range(0, ncols):\n",
    "        if gnutella[i][j] > 0:\n",
    "            gnutella_graph.add_edge(i, j, weight=gnutella[i][j])\n",
    "for i in range(0, nrows):\n",
    "    gnutella_graph.add_node(i)"
   ]
  },
  {
   "cell_type": "markdown",
   "metadata": {
    "ExecuteTime": {
     "end_time": "2018-12-04T00:50:02.648950Z",
     "start_time": "2018-12-04T00:50:02.643915Z"
    }
   },
   "source": [
    "### Слабо поврзани компоненти"
   ]
  },
  {
   "cell_type": "code",
   "execution_count": 30,
   "metadata": {
    "ExecuteTime": {
     "end_time": "2018-12-04T01:21:52.764656Z",
     "start_time": "2018-12-04T01:21:52.741652Z"
    }
   },
   "outputs": [
    {
     "data": {
      "text/plain": [
       "1"
      ]
     },
     "execution_count": 30,
     "metadata": {},
     "output_type": "execute_result"
    }
   ],
   "source": [
    "wcc = list(nx.weakly_connected_components(gnutella_graph))\n",
    "len(wcc)"
   ]
  },
  {
   "cell_type": "markdown",
   "metadata": {},
   "source": [
    "### Централност според PageRank"
   ]
  },
  {
   "cell_type": "code",
   "execution_count": 38,
   "metadata": {
    "ExecuteTime": {
     "end_time": "2018-12-04T01:26:12.322621Z",
     "start_time": "2018-12-04T01:26:11.600586Z"
    }
   },
   "outputs": [
    {
     "data": {
      "text/plain": [
       "[6494, 8330, 1697]"
      ]
     },
     "execution_count": 38,
     "metadata": {},
     "output_type": "execute_result"
    }
   ],
   "source": [
    "ranks = nx.pagerank(gnutella_graph)\n",
    "ranks = OrderedDict(sorted(ranks.items(), key=lambda x: x[1], reverse=True))\n",
    "central = list(ranks.keys())[0:3]\n",
    "central"
   ]
  },
  {
   "cell_type": "markdown",
   "metadata": {},
   "source": [
    "### Hubs and Authorities"
   ]
  },
  {
   "cell_type": "code",
   "execution_count": 36,
   "metadata": {
    "ExecuteTime": {
     "end_time": "2018-12-04T01:25:51.401274Z",
     "start_time": "2018-12-04T01:25:36.724232Z"
    }
   },
   "outputs": [
    {
     "data": {
      "text/plain": [
       "[176, 558, 31]"
      ]
     },
     "execution_count": 36,
     "metadata": {},
     "output_type": "execute_result"
    }
   ],
   "source": [
    "hubs, authorities = nx.hits(\n",
    "    gnutella_graph, tol=1e-6, max_iter=1000, normalized=False)\n",
    "hubs = OrderedDict(sorted(hubs.items(), key=lambda x: x[1], reverse=True))\n",
    "central = list(hubs.keys())[0:3]\n",
    "central"
   ]
  },
  {
   "cell_type": "code",
   "execution_count": 37,
   "metadata": {
    "ExecuteTime": {
     "end_time": "2018-12-04T01:25:54.514410Z",
     "start_time": "2018-12-04T01:25:54.506407Z"
    }
   },
   "outputs": [
    {
     "data": {
      "text/plain": [
       "[1091, 5891, 164]"
      ]
     },
     "execution_count": 37,
     "metadata": {},
     "output_type": "execute_result"
    }
   ],
   "source": [
    "authorities = OrderedDict(\n",
    "    sorted(authorities.items(), key=lambda x: x[1], reverse=True))\n",
    "central = list(authorities.keys())[0:3]\n",
    "central"
   ]
  },
  {
   "cell_type": "code",
   "execution_count": null,
   "metadata": {},
   "outputs": [],
   "source": []
  }
 ],
 "metadata": {
  "kernelspec": {
   "display_name": "Python 3",
   "language": "python",
   "name": "python3"
  },
  "language_info": {
   "codemirror_mode": {
    "name": "ipython",
    "version": 3
   },
   "file_extension": ".py",
   "mimetype": "text/x-python",
   "name": "python",
   "nbconvert_exporter": "python",
   "pygments_lexer": "ipython3",
   "version": "3.7.1"
  },
  "toc": {
   "base_numbering": 1,
   "nav_menu": {},
   "number_sections": false,
   "sideBar": true,
   "skip_h1_title": false,
   "title_cell": "Table of Contents",
   "title_sidebar": "Contents",
   "toc_cell": false,
   "toc_position": {},
   "toc_section_display": true,
   "toc_window_display": false
  },
  "varInspector": {
   "cols": {
    "lenName": 16,
    "lenType": 16,
    "lenVar": 40
   },
   "kernels_config": {
    "python": {
     "delete_cmd_postfix": "",
     "delete_cmd_prefix": "del ",
     "library": "var_list.py",
     "varRefreshCmd": "print(var_dic_list())"
    },
    "r": {
     "delete_cmd_postfix": ") ",
     "delete_cmd_prefix": "rm(",
     "library": "var_list.r",
     "varRefreshCmd": "cat(var_dic_list()) "
    }
   },
   "types_to_exclude": [
    "module",
    "function",
    "builtin_function_or_method",
    "instance",
    "_Feature"
   ],
   "window_display": false
  }
 },
 "nbformat": 4,
 "nbformat_minor": 2
}
